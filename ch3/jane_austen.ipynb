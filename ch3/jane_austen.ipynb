{
  "nbformat": 4,
  "nbformat_minor": 0,
  "metadata": {
    "colab": {
      "name": "jane_austen.ipynb",
      "provenance": []
    },
    "kernelspec": {
      "name": "python3",
      "display_name": "Python 3"
    }
  },
  "cells": [
    {
      "cell_type": "code",
      "metadata": {
        "id": "Mvdjs23IPyY0",
        "colab_type": "code",
        "colab": {}
      },
      "source": [
        "import numpy as np\n",
        "import torch\n",
        "torch.set_printoptions(edgeitems=2, threshold=50)"
      ],
      "execution_count": 0,
      "outputs": []
    },
    {
      "cell_type": "code",
      "metadata": {
        "id": "upK7wAlwQFFc",
        "colab_type": "code",
        "colab": {}
      },
      "source": [
        "with open('1342-0.txt', encoding='utf8') as f:\n",
        "    text = f.read()"
      ],
      "execution_count": 0,
      "outputs": []
    },
    {
      "cell_type": "code",
      "metadata": {
        "id": "HQREfOioQHI6",
        "colab_type": "code",
        "colab": {
          "base_uri": "https://localhost:8080/",
          "height": 34
        },
        "outputId": "f313cddd-76f7-46bf-ecfe-41ef1ac3992e"
      },
      "source": [
        "lines = text.split('\\n')\n",
        "line = lines[200]\n",
        "line"
      ],
      "execution_count": 3,
      "outputs": [
        {
          "output_type": "execute_result",
          "data": {
            "text/plain": [
              "'“Impossible, Mr. Bennet, impossible, when I am not acquainted with him'"
            ]
          },
          "metadata": {
            "tags": []
          },
          "execution_count": 3
        }
      ]
    },
    {
      "cell_type": "code",
      "metadata": {
        "id": "DlQYxmUzQHLp",
        "colab_type": "code",
        "colab": {
          "base_uri": "https://localhost:8080/",
          "height": 34
        },
        "outputId": "1ef425f4-c2d0-4199-a365-3ba1a16dbb33"
      },
      "source": [
        "letter_t = torch.zeros(len(line), 128) # <1> \n",
        "letter_t.shape"
      ],
      "execution_count": 4,
      "outputs": [
        {
          "output_type": "execute_result",
          "data": {
            "text/plain": [
              "torch.Size([70, 128])"
            ]
          },
          "metadata": {
            "tags": []
          },
          "execution_count": 4
        }
      ]
    },
    {
      "cell_type": "code",
      "metadata": {
        "id": "7x9PeZ86QHOL",
        "colab_type": "code",
        "colab": {}
      },
      "source": [
        "for i, letter in enumerate(line.lower().strip()):\n",
        "    letter_index = ord(letter) if ord(letter) < 128 else 0  # <1>\n",
        "    letter_t[i][letter_index] = 1"
      ],
      "execution_count": 0,
      "outputs": []
    },
    {
      "cell_type": "code",
      "metadata": {
        "id": "AEwV8_3WQHQh",
        "colab_type": "code",
        "colab": {
          "base_uri": "https://localhost:8080/",
          "height": 221
        },
        "outputId": "5e2e42fa-48c0-4866-de8c-781e3c9f56ce"
      },
      "source": [
        "def clean_words(input_str):\n",
        "    punctuation = '.,;:\"!?”“_-'\n",
        "    word_list = input_str.lower().replace('\\n',' ').split()\n",
        "    word_list = [word.strip(punctuation) for word in word_list]\n",
        "    return word_list\n",
        "\n",
        "words_in_line = clean_words(line)\n",
        "line, words_in_line"
      ],
      "execution_count": 6,
      "outputs": [
        {
          "output_type": "execute_result",
          "data": {
            "text/plain": [
              "('“Impossible, Mr. Bennet, impossible, when I am not acquainted with him',\n",
              " ['impossible',\n",
              "  'mr',\n",
              "  'bennet',\n",
              "  'impossible',\n",
              "  'when',\n",
              "  'i',\n",
              "  'am',\n",
              "  'not',\n",
              "  'acquainted',\n",
              "  'with',\n",
              "  'him'])"
            ]
          },
          "metadata": {
            "tags": []
          },
          "execution_count": 6
        }
      ]
    },
    {
      "cell_type": "code",
      "metadata": {
        "id": "UlZMBgmhQHS1",
        "colab_type": "code",
        "colab": {
          "base_uri": "https://localhost:8080/",
          "height": 34
        },
        "outputId": "bfb91cd3-9b22-4a8d-d8c8-35ef6ee248e2"
      },
      "source": [
        "word_list = sorted(set(clean_words(text)))\n",
        "word2index_dict = {word: i for (i, word) in enumerate(word_list)}\n",
        "\n",
        "len(word2index_dict), word2index_dict['impossible']"
      ],
      "execution_count": 7,
      "outputs": [
        {
          "output_type": "execute_result",
          "data": {
            "text/plain": [
              "(7261, 3394)"
            ]
          },
          "metadata": {
            "tags": []
          },
          "execution_count": 7
        }
      ]
    },
    {
      "cell_type": "code",
      "metadata": {
        "id": "SgpDiXQfQTYi",
        "colab_type": "code",
        "colab": {
          "base_uri": "https://localhost:8080/",
          "height": 221
        },
        "outputId": "274c43b9-87d8-4338-8fa9-e4cb46cf1cec"
      },
      "source": [
        "word_t = torch.zeros(len(words_in_line), len(word2index_dict))\n",
        "for i, word in enumerate(words_in_line):\n",
        "    word_index = word2index_dict[word]\n",
        "    word_t[i][word_index] = 1\n",
        "    print('{:2} {:4} {}'.format(i, word_index, word))\n",
        "    \n",
        "print(word_t.shape)"
      ],
      "execution_count": 8,
      "outputs": [
        {
          "output_type": "stream",
          "text": [
            " 0 3394 impossible\n",
            " 1 4305 mr\n",
            " 2  813 bennet\n",
            " 3 3394 impossible\n",
            " 4 7078 when\n",
            " 5 3315 i\n",
            " 6  415 am\n",
            " 7 4436 not\n",
            " 8  239 acquainted\n",
            " 9 7148 with\n",
            "10 3215 him\n",
            "torch.Size([11, 7261])\n"
          ],
          "name": "stdout"
        }
      ]
    },
    {
      "cell_type": "code",
      "metadata": {
        "id": "zKUvjktxQTbO",
        "colab_type": "code",
        "colab": {
          "base_uri": "https://localhost:8080/",
          "height": 34
        },
        "outputId": "52f45b0e-2728-4514-9eea-b331df323d88"
      },
      "source": [
        "word_t = word_t.unsqueeze(1)\n",
        "word_t.shape"
      ],
      "execution_count": 9,
      "outputs": [
        {
          "output_type": "execute_result",
          "data": {
            "text/plain": [
              "torch.Size([11, 1, 7261])"
            ]
          },
          "metadata": {
            "tags": []
          },
          "execution_count": 9
        }
      ]
    },
    {
      "cell_type": "code",
      "metadata": {
        "id": "EfMnZI9jQYBe",
        "colab_type": "code",
        "colab": {
          "base_uri": "https://localhost:8080/",
          "height": 1000
        },
        "outputId": "f9d8ef39-0ff9-4539-8c3d-12f3fd7bc52b"
      },
      "source": [
        "[(c, ord(c)) for c in sorted(set(text))]"
      ],
      "execution_count": 10,
      "outputs": [
        {
          "output_type": "execute_result",
          "data": {
            "text/plain": [
              "[('\\n', 10),\n",
              " (' ', 32),\n",
              " ('!', 33),\n",
              " ('#', 35),\n",
              " ('$', 36),\n",
              " ('%', 37),\n",
              " (\"'\", 39),\n",
              " ('(', 40),\n",
              " (')', 41),\n",
              " ('*', 42),\n",
              " (',', 44),\n",
              " ('-', 45),\n",
              " ('.', 46),\n",
              " ('/', 47),\n",
              " ('0', 48),\n",
              " ('1', 49),\n",
              " ('2', 50),\n",
              " ('3', 51),\n",
              " ('4', 52),\n",
              " ('5', 53),\n",
              " ('6', 54),\n",
              " ('7', 55),\n",
              " ('8', 56),\n",
              " ('9', 57),\n",
              " (':', 58),\n",
              " (';', 59),\n",
              " ('?', 63),\n",
              " ('@', 64),\n",
              " ('A', 65),\n",
              " ('B', 66),\n",
              " ('C', 67),\n",
              " ('D', 68),\n",
              " ('E', 69),\n",
              " ('F', 70),\n",
              " ('G', 71),\n",
              " ('H', 72),\n",
              " ('I', 73),\n",
              " ('J', 74),\n",
              " ('K', 75),\n",
              " ('L', 76),\n",
              " ('M', 77),\n",
              " ('N', 78),\n",
              " ('O', 79),\n",
              " ('P', 80),\n",
              " ('Q', 81),\n",
              " ('R', 82),\n",
              " ('S', 83),\n",
              " ('T', 84),\n",
              " ('U', 85),\n",
              " ('V', 86),\n",
              " ('W', 87),\n",
              " ('X', 88),\n",
              " ('Y', 89),\n",
              " ('Z', 90),\n",
              " ('[', 91),\n",
              " (']', 93),\n",
              " ('_', 95),\n",
              " ('a', 97),\n",
              " ('b', 98),\n",
              " ('c', 99),\n",
              " ('d', 100),\n",
              " ('e', 101),\n",
              " ('f', 102),\n",
              " ('g', 103),\n",
              " ('h', 104),\n",
              " ('i', 105),\n",
              " ('j', 106),\n",
              " ('k', 107),\n",
              " ('l', 108),\n",
              " ('m', 109),\n",
              " ('n', 110),\n",
              " ('o', 111),\n",
              " ('p', 112),\n",
              " ('q', 113),\n",
              " ('r', 114),\n",
              " ('s', 115),\n",
              " ('t', 116),\n",
              " ('u', 117),\n",
              " ('v', 118),\n",
              " ('w', 119),\n",
              " ('x', 120),\n",
              " ('y', 121),\n",
              " ('z', 122),\n",
              " ('“', 8220),\n",
              " ('”', 8221),\n",
              " ('\\ufeff', 65279)]"
            ]
          },
          "metadata": {
            "tags": []
          },
          "execution_count": 10
        }
      ]
    },
    {
      "cell_type": "code",
      "metadata": {
        "id": "b7JHEvrtQcNj",
        "colab_type": "code",
        "colab": {
          "base_uri": "https://localhost:8080/",
          "height": 34
        },
        "outputId": "68790382-2ef9-492b-a4c7-f6ea36439d1c"
      },
      "source": [
        "ord('l'\n",
        "   )"
      ],
      "execution_count": 11,
      "outputs": [
        {
          "output_type": "execute_result",
          "data": {
            "text/plain": [
              "108"
            ]
          },
          "metadata": {
            "tags": []
          },
          "execution_count": 11
        }
      ]
    }
  ]
}