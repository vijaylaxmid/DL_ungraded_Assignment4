{
  "nbformat": 4,
  "nbformat_minor": 0,
  "metadata": {
    "colab": {
      "name": "audio_chirp.ipynb",
      "provenance": []
    },
    "kernelspec": {
      "name": "python3",
      "display_name": "Python 3"
    }
  },
  "cells": [
    {
      "cell_type": "code",
      "metadata": {
        "id": "KyFp48kxSQKl",
        "colab_type": "code",
        "colab": {}
      },
      "source": [
        "import numpy as np\n",
        "import torch\n",
        "torch.set_printoptions(edgeitems=2, threshold=50)"
      ],
      "execution_count": 0,
      "outputs": []
    },
    {
      "cell_type": "code",
      "metadata": {
        "id": "b0y50NVkSSkk",
        "colab_type": "code",
        "colab": {
          "base_uri": "https://localhost:8080/",
          "height": 34
        },
        "outputId": "bf50d93b-c691-4a78-8bf4-331378271d17"
      },
      "source": [
        "import scipy.io.wavfile as wavfile\n",
        "\n",
        "freq, waveform_arr = wavfile.read('1-100038-A-14.wav')\n",
        "freq, waveform_arr"
      ],
      "execution_count": 2,
      "outputs": [
        {
          "output_type": "execute_result",
          "data": {
            "text/plain": [
              "(44100, array([ -388, -3387, -4634, ...,  2289,  1327,    90], dtype=int16))"
            ]
          },
          "metadata": {
            "tags": []
          },
          "execution_count": 2
        }
      ]
    },
    {
      "cell_type": "code",
      "metadata": {
        "id": "ASmuRtrbSSnK",
        "colab_type": "code",
        "colab": {
          "base_uri": "https://localhost:8080/",
          "height": 34
        },
        "outputId": "7febfac6-9e0d-404b-c61e-c41eb457d2f0"
      },
      "source": [
        "waveform = torch.from_numpy(waveform_arr).float()\n",
        "waveform.shape"
      ],
      "execution_count": 3,
      "outputs": [
        {
          "output_type": "execute_result",
          "data": {
            "text/plain": [
              "torch.Size([220500])"
            ]
          },
          "metadata": {
            "tags": []
          },
          "execution_count": 3
        }
      ]
    },
    {
      "cell_type": "code",
      "metadata": {
        "id": "vqPkOBFqSSpn",
        "colab_type": "code",
        "colab": {
          "base_uri": "https://localhost:8080/",
          "height": 34
        },
        "outputId": "dbeaed46-69ae-4fe4-d221-7c3c1fdf73e9"
      },
      "source": [
        "from scipy import signal\n",
        "\n",
        "f_arr, t_arr, sp_arr = signal.spectrogram(waveform_arr, freq)\n",
        "\n",
        "sp_mono = torch.from_numpy(sp_arr)\n",
        "sp_mono.shape"
      ],
      "execution_count": 4,
      "outputs": [
        {
          "output_type": "execute_result",
          "data": {
            "text/plain": [
              "torch.Size([129, 984])"
            ]
          },
          "metadata": {
            "tags": []
          },
          "execution_count": 4
        }
      ]
    },
    {
      "cell_type": "code",
      "metadata": {
        "id": "ekRixsVESSr-",
        "colab_type": "code",
        "colab": {
          "base_uri": "https://localhost:8080/",
          "height": 34
        },
        "outputId": "821d07f7-20d5-4d47-ace4-aba226182f72"
      },
      "source": [
        "sp_left = sp_right = sp_arr\n",
        "sp_left_t = torch.from_numpy(sp_left)\n",
        "sp_right_t = torch.from_numpy(sp_right)\n",
        "sp_left_t.shape, sp_right_t.shape"
      ],
      "execution_count": 5,
      "outputs": [
        {
          "output_type": "execute_result",
          "data": {
            "text/plain": [
              "(torch.Size([129, 984]), torch.Size([129, 984]))"
            ]
          },
          "metadata": {
            "tags": []
          },
          "execution_count": 5
        }
      ]
    },
    {
      "cell_type": "code",
      "metadata": {
        "id": "4N7baoxISbjT",
        "colab_type": "code",
        "colab": {
          "base_uri": "https://localhost:8080/",
          "height": 34
        },
        "outputId": "2b3f030c-0a0e-4ab7-bded-881cb3393705"
      },
      "source": [
        "sp_t = torch.stack((sp_left_t, sp_right_t), dim=0)\n",
        "sp_t.shape"
      ],
      "execution_count": 6,
      "outputs": [
        {
          "output_type": "execute_result",
          "data": {
            "text/plain": [
              "torch.Size([2, 129, 984])"
            ]
          },
          "metadata": {
            "tags": []
          },
          "execution_count": 6
        }
      ]
    }
  ]
}