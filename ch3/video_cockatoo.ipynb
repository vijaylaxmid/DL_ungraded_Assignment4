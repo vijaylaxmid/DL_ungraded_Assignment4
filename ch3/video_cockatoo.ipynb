{
  "nbformat": 4,
  "nbformat_minor": 0,
  "metadata": {
    "colab": {
      "name": "video_cockatoo.ipynb",
      "provenance": []
    },
    "kernelspec": {
      "name": "python3",
      "display_name": "Python 3"
    }
  },
  "cells": [
    {
      "cell_type": "code",
      "metadata": {
        "id": "I0vrOwPMQ85M",
        "colab_type": "code",
        "colab": {}
      },
      "source": [
        "import numpy as np\n",
        "import torch\n",
        "torch.set_printoptions(edgeitems=2, threshold=50)"
      ],
      "execution_count": 0,
      "outputs": []
    },
    {
      "cell_type": "code",
      "metadata": {
        "id": "1fs5GxfuRC2A",
        "colab_type": "code",
        "colab": {
          "base_uri": "https://localhost:8080/",
          "height": 136
        },
        "outputId": "c7b69e6f-3fb2-478f-e5d5-8c2fddb7c00a"
      },
      "source": [
        "import imageio\n",
        "\n",
        "reader = imageio.get_reader('cockatoo.mp4')\n",
        "meta = reader.get_meta_data()\n",
        "meta"
      ],
      "execution_count": 2,
      "outputs": [
        {
          "output_type": "execute_result",
          "data": {
            "text/plain": [
              "{'duration': 14.0,\n",
              " 'ffmpeg_version': '3.4.6-0ubuntu0.18.04.1 built with gcc 7 (Ubuntu 7.3.0-16ubuntu3)',\n",
              " 'fps': 20.0,\n",
              " 'nframes': 280,\n",
              " 'plugin': 'ffmpeg',\n",
              " 'size': (1280, 720),\n",
              " 'source_size': (1280, 720)}"
            ]
          },
          "metadata": {
            "tags": []
          },
          "execution_count": 2
        }
      ]
    },
    {
      "cell_type": "code",
      "metadata": {
        "id": "LEB50n5LRC4b",
        "colab_type": "code",
        "colab": {
          "base_uri": "https://localhost:8080/",
          "height": 34
        },
        "outputId": "edb63ae0-e638-4de8-ca1d-2bc72532ec6a"
      },
      "source": [
        "n_channels = 3\n",
        "n_frames = meta['nframes']\n",
        "video = torch.empty(n_channels, n_frames, *meta['size'])\n",
        "\n",
        "video.shape"
      ],
      "execution_count": 3,
      "outputs": [
        {
          "output_type": "execute_result",
          "data": {
            "text/plain": [
              "torch.Size([3, 280, 1280, 720])"
            ]
          },
          "metadata": {
            "tags": []
          },
          "execution_count": 3
        }
      ]
    },
    {
      "cell_type": "code",
      "metadata": {
        "id": "CnnjrMZDRC65",
        "colab_type": "code",
        "colab": {}
      },
      "source": [
        "for i, frame_arr in enumerate(reader):\n",
        "    frame = torch.from_numpy(frame_arr).float()\n",
        "    video[:, i] = torch.transpose(frame, 0, 2)"
      ],
      "execution_count": 0,
      "outputs": []
    },
    {
      "cell_type": "code",
      "metadata": {
        "id": "tiqNanwZRC9K",
        "colab_type": "code",
        "colab": {
          "base_uri": "https://localhost:8080/",
          "height": 34
        },
        "outputId": "c2c901be-4bf0-48f7-c61d-8d7070c86018"
      },
      "source": [
        "time_video = torch.empty(n_frames, n_channels, *meta['size'])\n",
        "\n",
        "for i, frame in enumerate(reader):\n",
        "    frame = torch.from_numpy(frame).float()\n",
        "    time_video[i] = torch.transpose(frame, 0, 2)\n",
        "\n",
        "time_video.shape"
      ],
      "execution_count": 5,
      "outputs": [
        {
          "output_type": "execute_result",
          "data": {
            "text/plain": [
              "torch.Size([280, 3, 1280, 720])"
            ]
          },
          "metadata": {
            "tags": []
          },
          "execution_count": 5
        }
      ]
    }
  ]
}